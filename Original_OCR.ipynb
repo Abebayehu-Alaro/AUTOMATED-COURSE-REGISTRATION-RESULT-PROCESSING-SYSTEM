{
  "nbformat": 4,
  "nbformat_minor": 0,
  "metadata": {
    "colab": {
      "provenance": [],
      "collapsed_sections": [
        "RggUCXMWig0y"
      ],
      "authorship_tag": "ABX9TyMM9kuxilYqbRSLiQP80fzn",
      "include_colab_link": true
    },
    "kernelspec": {
      "name": "python3",
      "display_name": "Python 3"
    },
    "language_info": {
      "name": "python"
    }
  },
  "cells": [
    {
      "cell_type": "markdown",
      "metadata": {
        "id": "view-in-github",
        "colab_type": "text"
      },
      "source": [
        "<a href=\"https://colab.research.google.com/github/Abebayehu-Alaro/AUTOMATED-COURSE-REGISTRATION-RESULT-PROCESSING-SYSTEM/blob/master/Original_OCR.ipynb\" target=\"_parent\"><img src=\"https://colab.research.google.com/assets/colab-badge.svg\" alt=\"Open In Colab\"/></a>"
      ]
    },
    {
      "cell_type": "markdown",
      "source": [
        "Importing the libraries\n",
        "\n",
        "> Indented block\n",
        "\n"
      ],
      "metadata": {
        "id": "IgOlbV8-BXsd"
      }
    },
    {
      "cell_type": "code",
      "execution_count": 555,
      "metadata": {
        "id": "Zxv4Np-CZ_n_"
      },
      "outputs": [],
      "source": [
        "import cv2 as cv\n",
        "import numpy as np\n",
        "import matplotlib.pyplot as plt\n",
        "import os\n",
        "from google.colab.patches import cv2_imshow\n",
        "from google.colab import files\n",
        "from sklearn import datasets\n",
        "from sklearn import svm as supportVectorMachine\n",
        "\n"
      ]
    },
    {
      "cell_type": "code",
      "source": [
        "SZ=20\n",
        "bin_n = 16 \n",
        "affine_flags = cv.WARP_INVERSE_MAP|cv.INTER_LINEAR\n",
        "count=1\n",
        "countHOG=0"
      ],
      "metadata": {
        "id": "sYwl6H5HadZ_"
      },
      "execution_count": 628,
      "outputs": []
    },
    {
      "cell_type": "markdown",
      "source": [
        "*Before* finding the HOG(Histogram Oreineted Gradient), as features vector, we deskew the image using its second order moments. So we first define a function deskew() which takes a digit image and deskew it. Below is the deskew() function:"
      ],
      "metadata": {
        "id": "njfUHYMCB9ks"
      }
    },
    {
      "cell_type": "code",
      "source": [
        "def deskew(img):\n",
        "    global count\n",
        "    if count==1200:\n",
        "      print(\"The original image\")\n",
        "      cv2_imshow(img)\n",
        "      plt.imshow(img, cmap=plt.cm.viridis, interpolation='nearest')\n",
        "      plt.show()\n",
        "    m = cv.moments(img)\n",
        "    if abs(m['mu02']) < 1e-2:\n",
        "        return img.copy()\n",
        "    skew = m['mu11']/m['mu02']\n",
        "    M = np.float32([[1, skew, -0.5*SZ*skew], [0, 1, 0]])\n",
        "    img = cv.warpAffine(img,M,(SZ, SZ),flags=affine_flags)\n",
        "    if count==1200:\n",
        "      print(\"The deskewed image\")\n",
        "      plt.imshow(img, cmap=plt.cm.plasma, interpolation='nearest')\n",
        "      plt.show()\n",
        "    count=count+1\n",
        "    return img"
      ],
      "metadata": {
        "id": "u-ix7mcDavWX"
      },
      "execution_count": 629,
      "outputs": []
    },
    {
      "cell_type": "markdown",
      "source": [
        "Next we have to find the HOG Descriptor of each cell. For that, we find Sobel derivatives of each cell in X and Y direction. Then find their magnitude and direction of gradient at each pixel. This gradient is quantized to 16 integer values. Divide this image to four sub-squares. For each sub-square, calculate the histogram of direction (16 bins) weighted with their magnitude. So each sub-square gives you a vector containing 16 values. Four such vectors (of four sub-squares) together gives us a feature vector containing 64 values. This is the feature vector we use to train our data."
      ],
      "metadata": {
        "id": "cz_5a1FLD_SE"
      }
    },
    {
      "cell_type": "code",
      "source": [
        "def hog(img):\n",
        "    gx = cv.Sobel(img, cv.CV_32F, 1, 0)\n",
        "    gy = cv.Sobel(img, cv.CV_32F, 0, 1)\n",
        "    mag, ang = cv.cartToPolar(gx, gy)  # euclidean distance\n",
        "    global countHOG\n",
        "    if countHOG == 0:\n",
        "      print(\"Magnitude: \",len(mag))\n",
        "      print(mag)\n",
        "      print(\"Orientation: \",len(ang))\n",
        "      print(ang)\n",
        "      countHOG=countHOG + 1\n",
        "\n",
        "    bins = np.int32(bin_n*ang/(2*np.pi))    # quantizing binvalues in (0...16)\n",
        "    bin_cells = bins[:10,:10], bins[10:,:10], bins[:10,10:], bins[10:,10:]\n",
        "    mag_cells = mag[:10,:10], mag[10:,:10], mag[:10,10:], mag[10:,10:]\n",
        "    hists = [np.bincount(b.ravel(), m.ravel(), bin_n) for b, m in zip(bin_cells, mag_cells)]\n",
        "    hist = np.hstack(hists)     # hist is a 64 bit vector\n",
        "    return hist"
      ],
      "metadata": {
        "id": "8_5Lg_1Qa2hv"
      },
      "execution_count": 613,
      "outputs": []
    },
    {
      "cell_type": "markdown",
      "source": [
        "Making the dataset folder and importing the digits dataset"
      ],
      "metadata": {
        "id": "FJepDd-BRdIl"
      }
    },
    {
      "cell_type": "code",
      "source": [
        "!mkdir uploads"
      ],
      "metadata": {
        "id": "7Jt1ZMOHGtI2",
        "colab": {
          "base_uri": "https://localhost:8080/"
        },
        "outputId": "db5a12f2-ec74-4a7d-ab4f-e3b3594bd60a"
      },
      "execution_count": 614,
      "outputs": [
        {
          "output_type": "stream",
          "name": "stdout",
          "text": [
            "mkdir: cannot create directory ‘uploads’: File exists\n"
          ]
        }
      ]
    },
    {
      "cell_type": "code",
      "source": [
        "uploaded = files.upload()\n",
        "uploaded_files = list(uploaded.keys())\n",
        "for uploaded_file in uploaded_files:\n",
        "  print(uploaded_file)\n",
        "  !mv $uploaded_file uploads/$uploaded_file"
      ],
      "metadata": {
        "colab": {
          "base_uri": "https://localhost:8080/",
          "height": 38
        },
        "id": "RnVQ_ibxGdcg",
        "outputId": "3cc0ecc0-76c5-4709-e2ca-57391fa487db"
      },
      "execution_count": 615,
      "outputs": [
        {
          "output_type": "display_data",
          "data": {
            "text/plain": [
              "<IPython.core.display.HTML object>"
            ],
            "text/html": [
              "\n",
              "     <input type=\"file\" id=\"files-fb22b876-88f1-4263-ab6c-f1bea4d48a14\" name=\"files[]\" multiple disabled\n",
              "        style=\"border:none\" />\n",
              "     <output id=\"result-fb22b876-88f1-4263-ab6c-f1bea4d48a14\">\n",
              "      Upload widget is only available when the cell has been executed in the\n",
              "      current browser session. Please rerun this cell to enable.\n",
              "      </output>\n",
              "      <script>// Copyright 2017 Google LLC\n",
              "//\n",
              "// Licensed under the Apache License, Version 2.0 (the \"License\");\n",
              "// you may not use this file except in compliance with the License.\n",
              "// You may obtain a copy of the License at\n",
              "//\n",
              "//      http://www.apache.org/licenses/LICENSE-2.0\n",
              "//\n",
              "// Unless required by applicable law or agreed to in writing, software\n",
              "// distributed under the License is distributed on an \"AS IS\" BASIS,\n",
              "// WITHOUT WARRANTIES OR CONDITIONS OF ANY KIND, either express or implied.\n",
              "// See the License for the specific language governing permissions and\n",
              "// limitations under the License.\n",
              "\n",
              "/**\n",
              " * @fileoverview Helpers for google.colab Python module.\n",
              " */\n",
              "(function(scope) {\n",
              "function span(text, styleAttributes = {}) {\n",
              "  const element = document.createElement('span');\n",
              "  element.textContent = text;\n",
              "  for (const key of Object.keys(styleAttributes)) {\n",
              "    element.style[key] = styleAttributes[key];\n",
              "  }\n",
              "  return element;\n",
              "}\n",
              "\n",
              "// Max number of bytes which will be uploaded at a time.\n",
              "const MAX_PAYLOAD_SIZE = 100 * 1024;\n",
              "\n",
              "function _uploadFiles(inputId, outputId) {\n",
              "  const steps = uploadFilesStep(inputId, outputId);\n",
              "  const outputElement = document.getElementById(outputId);\n",
              "  // Cache steps on the outputElement to make it available for the next call\n",
              "  // to uploadFilesContinue from Python.\n",
              "  outputElement.steps = steps;\n",
              "\n",
              "  return _uploadFilesContinue(outputId);\n",
              "}\n",
              "\n",
              "// This is roughly an async generator (not supported in the browser yet),\n",
              "// where there are multiple asynchronous steps and the Python side is going\n",
              "// to poll for completion of each step.\n",
              "// This uses a Promise to block the python side on completion of each step,\n",
              "// then passes the result of the previous step as the input to the next step.\n",
              "function _uploadFilesContinue(outputId) {\n",
              "  const outputElement = document.getElementById(outputId);\n",
              "  const steps = outputElement.steps;\n",
              "\n",
              "  const next = steps.next(outputElement.lastPromiseValue);\n",
              "  return Promise.resolve(next.value.promise).then((value) => {\n",
              "    // Cache the last promise value to make it available to the next\n",
              "    // step of the generator.\n",
              "    outputElement.lastPromiseValue = value;\n",
              "    return next.value.response;\n",
              "  });\n",
              "}\n",
              "\n",
              "/**\n",
              " * Generator function which is called between each async step of the upload\n",
              " * process.\n",
              " * @param {string} inputId Element ID of the input file picker element.\n",
              " * @param {string} outputId Element ID of the output display.\n",
              " * @return {!Iterable<!Object>} Iterable of next steps.\n",
              " */\n",
              "function* uploadFilesStep(inputId, outputId) {\n",
              "  const inputElement = document.getElementById(inputId);\n",
              "  inputElement.disabled = false;\n",
              "\n",
              "  const outputElement = document.getElementById(outputId);\n",
              "  outputElement.innerHTML = '';\n",
              "\n",
              "  const pickedPromise = new Promise((resolve) => {\n",
              "    inputElement.addEventListener('change', (e) => {\n",
              "      resolve(e.target.files);\n",
              "    });\n",
              "  });\n",
              "\n",
              "  const cancel = document.createElement('button');\n",
              "  inputElement.parentElement.appendChild(cancel);\n",
              "  cancel.textContent = 'Cancel upload';\n",
              "  const cancelPromise = new Promise((resolve) => {\n",
              "    cancel.onclick = () => {\n",
              "      resolve(null);\n",
              "    };\n",
              "  });\n",
              "\n",
              "  // Wait for the user to pick the files.\n",
              "  const files = yield {\n",
              "    promise: Promise.race([pickedPromise, cancelPromise]),\n",
              "    response: {\n",
              "      action: 'starting',\n",
              "    }\n",
              "  };\n",
              "\n",
              "  cancel.remove();\n",
              "\n",
              "  // Disable the input element since further picks are not allowed.\n",
              "  inputElement.disabled = true;\n",
              "\n",
              "  if (!files) {\n",
              "    return {\n",
              "      response: {\n",
              "        action: 'complete',\n",
              "      }\n",
              "    };\n",
              "  }\n",
              "\n",
              "  for (const file of files) {\n",
              "    const li = document.createElement('li');\n",
              "    li.append(span(file.name, {fontWeight: 'bold'}));\n",
              "    li.append(span(\n",
              "        `(${file.type || 'n/a'}) - ${file.size} bytes, ` +\n",
              "        `last modified: ${\n",
              "            file.lastModifiedDate ? file.lastModifiedDate.toLocaleDateString() :\n",
              "                                    'n/a'} - `));\n",
              "    const percent = span('0% done');\n",
              "    li.appendChild(percent);\n",
              "\n",
              "    outputElement.appendChild(li);\n",
              "\n",
              "    const fileDataPromise = new Promise((resolve) => {\n",
              "      const reader = new FileReader();\n",
              "      reader.onload = (e) => {\n",
              "        resolve(e.target.result);\n",
              "      };\n",
              "      reader.readAsArrayBuffer(file);\n",
              "    });\n",
              "    // Wait for the data to be ready.\n",
              "    let fileData = yield {\n",
              "      promise: fileDataPromise,\n",
              "      response: {\n",
              "        action: 'continue',\n",
              "      }\n",
              "    };\n",
              "\n",
              "    // Use a chunked sending to avoid message size limits. See b/62115660.\n",
              "    let position = 0;\n",
              "    do {\n",
              "      const length = Math.min(fileData.byteLength - position, MAX_PAYLOAD_SIZE);\n",
              "      const chunk = new Uint8Array(fileData, position, length);\n",
              "      position += length;\n",
              "\n",
              "      const base64 = btoa(String.fromCharCode.apply(null, chunk));\n",
              "      yield {\n",
              "        response: {\n",
              "          action: 'append',\n",
              "          file: file.name,\n",
              "          data: base64,\n",
              "        },\n",
              "      };\n",
              "\n",
              "      let percentDone = fileData.byteLength === 0 ?\n",
              "          100 :\n",
              "          Math.round((position / fileData.byteLength) * 100);\n",
              "      percent.textContent = `${percentDone}% done`;\n",
              "\n",
              "    } while (position < fileData.byteLength);\n",
              "  }\n",
              "\n",
              "  // All done.\n",
              "  yield {\n",
              "    response: {\n",
              "      action: 'complete',\n",
              "    }\n",
              "  };\n",
              "}\n",
              "\n",
              "scope.google = scope.google || {};\n",
              "scope.google.colab = scope.google.colab || {};\n",
              "scope.google.colab._files = {\n",
              "  _uploadFiles,\n",
              "  _uploadFilesContinue,\n",
              "};\n",
              "})(self);\n",
              "</script> "
            ]
          },
          "metadata": {}
        }
      ]
    },
    {
      "cell_type": "code",
      "source": [
        "uploads_dir = \"/content/uploads/\"\n",
        "IMAGE_PATH = os.path.join(uploads_dir + \"digits.png\")\n",
        "\n",
        "# for filename in os.listdir(uploads_dir):\n",
        "#     IMAGE_PATH=os.path.join(uploads_dir, filename)\n",
        "\n"
      ],
      "metadata": {
        "id": "kR7qu68LG3IP"
      },
      "execution_count": 616,
      "outputs": []
    },
    {
      "cell_type": "markdown",
      "source": [
        "Importing the digit dataset"
      ],
      "metadata": {
        "id": "X_2vg3ItEdcr"
      }
    },
    {
      "cell_type": "code",
      "source": [
        "img = cv.imread(IMAGE_PATH, 0)\n",
        "if img is None:\n",
        "    raise Exception(\"The digits.png dataset required !\")"
      ],
      "metadata": {
        "id": "GsEeklyqa76M"
      },
      "execution_count": 617,
      "outputs": []
    },
    {
      "cell_type": "markdown",
      "source": [
        "We split our big dataset into individual cells. For every digit, 250 cells are reserved for training data and remaining 250 data is reserved for testing"
      ],
      "metadata": {
        "id": "3hQ45_TEEU6k"
      }
    },
    {
      "cell_type": "code",
      "source": [
        "cells = [np.hsplit(row,100) for row in np.vsplit(img,50)]\n"
      ],
      "metadata": {
        "id": "7g1NZD7Una0A"
      },
      "execution_count": 618,
      "outputs": []
    },
    {
      "cell_type": "markdown",
      "source": [
        "First half is for training and the next half is for testing "
      ],
      "metadata": {
        "id": "aXelKTMYErKs"
      }
    },
    {
      "cell_type": "code",
      "source": [
        "train_cells = [ i[:50] for i in cells ]\n",
        "test_cells = [ i[50:] for i in cells]"
      ],
      "metadata": {
        "id": "HRs44sSDj_72"
      },
      "execution_count": 619,
      "outputs": []
    },
    {
      "cell_type": "markdown",
      "source": [
        "\n",
        "\n",
        "```\n",
        "# This is formatted as code\n",
        "```\n",
        "\n",
        "Calling deskew function to deskew the given cell"
      ],
      "metadata": {
        "id": "XNUn3T-tEyMJ"
      }
    },
    {
      "cell_type": "code",
      "source": [
        "deskewed = [list(map(deskew,row)) for row in train_cells]"
      ],
      "metadata": {
        "id": "iLgk95xjnrIX",
        "colab": {
          "base_uri": "https://localhost:8080/",
          "height": 568
        },
        "outputId": "7c269573-d541-42ea-809f-0340a9731e4a"
      },
      "execution_count": 630,
      "outputs": [
        {
          "output_type": "stream",
          "name": "stdout",
          "text": [
            "The original image\n"
          ]
        },
        {
          "output_type": "display_data",
          "data": {
            "text/plain": [
              "<PIL.Image.Image image mode=L size=20x20 at 0x7F5A1F972D00>"
            ],
            "image/png": "[encoded data removed]"
          },
          "metadata": {}
        },
        {
          "output_type": "display_data",
          "data": {
            "text/plain": [
              "<Figure size 432x288 with 1 Axes>"
            ],
            "image/png": "[encoded data removed]"
          },
          "metadata": {
            "needs_background": "light"
          }
        },
        {
          "output_type": "stream",
          "name": "stdout",
          "text": [
            "The deskewed image\n"
          ]
        },
        {
          "output_type": "display_data",
          "data": {
            "text/plain": [
              "<Figure size 432x288 with 1 Axes>"
            ],
            "image/png": "[encoded data removed]"
          },
          "metadata": {
            "needs_background": "light"
          }
        }
      ]
    },
    {
      "cell_type": "markdown",
      "source": [
        "Calling the hog function to find the HOG Descriptor of each cell"
      ],
      "metadata": {
        "id": "WCfCcvK0E5VB"
      }
    },
    {
      "cell_type": "code",
      "source": [
        "hogdata = [list(map(hog,row)) for row in deskewed]\n"
      ],
      "metadata": {
        "id": "ie2CulzVoouQ",
        "colab": {
          "base_uri": "https://localhost:8080/"
        },
        "outputId": "d58665cd-3f8a-43d9-e1c6-a67c3a111e93"
      },
      "execution_count": 454,
      "outputs": [
        {
          "output_type": "stream",
          "name": "stdout",
          "text": [
            "Magnitude:  20\n",
            "[[   0.           0.           0.           0.           0.\n",
            "     0.           0.           0.           0.           0.\n",
            "     0.           0.           0.           0.           0.\n",
            "     0.           0.           0.           0.           0.       ]\n",
            " [   0.           0.           0.           0.           0.\n",
            "     0.           0.           9.899495    50.47772     77.31753\n",
            "    63.560993    22.803509     2.828427     0.           0.\n",
            "     0.           0.           0.           0.           0.       ]\n",
            " [   0.           0.           0.           0.           0.\n",
            "     0.          25.455845   178.86867    495.02524    748.55194\n",
            "   772.3134     514.29565    186.31694     22.627417     0.\n",
            "     0.           0.           0.           0.           0.       ]\n",
            " [   0.           0.           0.           0.           0.\n",
            "     4.2426405   99.8599     504.28763    907.2001     918.40405\n",
            "   947.58746    979.30994    638.3181     161.40013      0.\n",
            "     0.           0.           0.           0.           0.       ]\n",
            " [   0.           0.           0.           0.           1.4142135\n",
            "    77.83315    371.05255    839.1436     837.3255     280.2035\n",
            "   229.00217    569.7227     871.16583    661.1278     243.65549\n",
            "    39.59798      0.           0.           0.           0.       ]\n",
            " [   0.           0.           0.           0.          25.495098\n",
            "   266.8108     743.8293     879.51465    420.1952      74.094536\n",
            "   276.56827    239.77074    333.86523    737.72217    586.4196\n",
            "   157.78467      0.           0.           0.           0.       ]\n",
            " [   0.           0.           0.           1.4142135   73.34848\n",
            "   532.8602     940.06384    497.61832    290.02414    608.79224\n",
            "   580.3602     616.73334    525.8479     130.29198    794.33246\n",
            "   426.22293     22.627417     0.           0.           0.       ]\n",
            " [   0.           0.           0.          21.260292   235.47823\n",
            "   795.73987    773.4934     165.9518     809.595      794.79553\n",
            "   806.2568     749.69464    655.93445    555.40436    649.4074\n",
            "   798.28314    239.20702     32.526913     0.           0.       ]\n",
            " [   0.           0.           0.          69.77106    456.7056\n",
            "   836.82495    278.1726     712.87866    845.72925    464.84406\n",
            "   291.3589     227.43791    493.46326    888.8611      93.77633\n",
            "   874.5753     552.92676    113.64858      0.           0.       ]\n",
            " [   0.           0.           0.         100.17984    647.7561\n",
            "   778.65784    294.9237     868.36975    502.08566    172.79468\n",
            "    33.970577     0.         283.08655    883.235      533.0854\n",
            "   672.07886    811.7598     216.1157       0.           0.       ]\n",
            " [   0.           0.           0.         117.51595    779.3908\n",
            "   703.4785     621.0974     822.9362     160.03125      2.\n",
            "     1.4142135    0.          91.92388    739.0115     840.16187\n",
            "   435.17813    896.94257    291.89383     11.313708     0.       ]\n",
            " [   0.           0.           0.         130.01538    728.4573\n",
            "   670.47       558.97046    771.9132     176.32356      0.\n",
            "     0.          14.142136   148.73466    687.4445     701.035\n",
            "   455.0011     814.79565    276.06158     16.           0.       ]\n",
            " [   0.           0.           0.          98.38699    550.23816\n",
            "   752.6487     269.31393    809.23914    241.86774      2.828427\n",
            "     0.         143.53397    533.18854    783.8418     179.92221\n",
            "   686.7911     635.0512     180.42172     11.313708     0.       ]\n",
            " [   0.           0.           0.          31.112698   330.926\n",
            "   847.455      108.16654    835.5334     513.4296     253.04942\n",
            "   389.61777    689.771      882.4987     427.98364    526.5529\n",
            "   743.5281     313.9586      53.75872      0.           0.       ]\n",
            " [   0.           0.           0.           0.         179.02513\n",
            "   747.61487    567.2742     553.5991     989.19055    945.0894\n",
            "   984.78827    876.9128     350.40833    460.10867    811.4592\n",
            "   429.16196     55.461697     1.4142135    0.           0.       ]\n",
            " [   0.           0.           0.           0.          86.45229\n",
            "   489.02554    881.7766     461.73584    381.29254    708.0028\n",
            "   501.59744    167.17058    686.628      849.7447     546.29846\n",
            "   164.2011      19.79899      0.           0.           0.       ]\n",
            " [   0.           0.           0.           0.          22.627417\n",
            "   187.2111     654.107     1019.39294    963.27045    835.0569\n",
            "   871.4873     974.8856     829.89154    462.23154    143.0105\n",
            "    12.727922     0.           0.           0.           0.       ]\n",
            " [   0.           0.           0.           0.           0.\n",
            "     8.485281   155.79474    496.52594    823.5593     962.35236\n",
            "   883.65265    628.19904    295.11353     72.34639      5.656854\n",
            "     0.           0.           0.           0.           0.       ]\n",
            " [   0.           0.           0.           0.           0.\n",
            "     0.           0.          21.213203    71.11962    114.27161\n",
            "   111.0045      64.49806     16.970562     0.           0.\n",
            "     0.           0.           0.           0.           0.       ]\n",
            " [   0.           0.           0.           0.           0.\n",
            "     0.           0.           0.           0.           0.\n",
            "     0.           0.           0.           0.           0.\n",
            "     0.           0.           0.           0.           0.       ]]\n",
            "Orientation:  20\n",
            "[[0.         0.         0.         0.         0.         0.\n",
            "  0.         0.         0.         0.         0.         0.\n",
            "  0.         0.         0.         0.         0.         0.\n",
            "  0.         0.        ]\n",
            " [0.         0.         0.         0.         0.         0.\n",
            "  0.         0.7852316  0.9829135  1.4801503  1.9922829  2.2317636\n",
            "  2.3563612  0.         0.         0.         0.         0.\n",
            "  0.         0.        ]\n",
            " [0.         0.         0.         0.         0.         0.\n",
            "  0.7852316  0.8724416  1.0484315  1.3948886  1.7636241  2.0344799\n",
            "  2.2497005  2.3563612  0.         0.         0.         0.\n",
            "  0.         0.        ]\n",
            " [0.         0.         0.         0.         0.         0.7852316\n",
            "  0.5712332  0.62473416 0.8242228  1.262071   1.8170822  2.181895\n",
            "  2.395927   2.4969585  0.         0.         0.         0.\n",
            "  0.         0.        ]\n",
            " [0.         0.         0.         0.         0.7852316  0.74920547\n",
            "  0.7321583  0.6073755  0.5915239  0.9324059  2.7423594  2.5663562\n",
            "  2.361143   2.233891   2.1928272  2.3563612  0.         0.\n",
            "  0.         0.        ]\n",
            " [0.         0.         0.         0.         0.73003954 0.5878828\n",
            "  0.63450956 0.65956813 0.55095214 4.3393235  3.7104387  3.6705196\n",
            "  2.5179877  2.4059064  2.5063946  2.6099205  0.         0.\n",
            "  0.         0.        ]\n",
            " [0.         0.         0.         0.7852316  0.45150024 0.41334093\n",
            "  0.4703368  0.60236675 4.0295863  4.4769497  4.4276514  4.2878428\n",
            "  5.00171    2.8294897  2.6284058  2.6663795  2.3563612  0.\n",
            "  0.         0.        ]\n",
            " [0.         0.         0.         0.71893907 0.5796449  0.41255355\n",
            "  0.32099763 4.493706   3.855402   4.3388143  4.6565566  4.3424563\n",
            "  5.409307   6.0893173  2.5336447  2.5669007  2.314956   2.3563612\n",
            "  0.         0.        ]\n",
            " [0.         0.         0.         0.47648954 0.4147375  0.33618116\n",
            "  6.109766   3.9923909  3.9186032  4.0552034  4.585067   4.295881\n",
            "  5.8856688  6.006233   1.9533603  2.6263041  2.593804   2.64646\n",
            "  0.         0.        ]\n",
            " [0.         0.         0.         0.05991702 0.17377445 0.26245832\n",
            "  3.3882437  3.65828    4.003038   4.1164856  3.885506   0.\n",
            "  5.8179235  5.9341464  6.098298   2.7491288  2.8478417  2.8842356\n",
            "  0.         0.        ]\n",
            " [0.         0.         0.         0.09372753 0.07833324 0.08395403\n",
            "  3.2237844  3.2511623  3.3365412  4.712389   3.926824   0.\n",
            "  5.7465563  6.074634   6.086719   3.2151794  3.075778   3.0006757\n",
            "  2.3563612  0.        ]\n",
            " [0.         0.         0.         0.01538017 6.1607165  5.975526\n",
            "  3.299675   3.0546997  2.895211   0.         0.         0.7852316\n",
            "  0.7284536  0.2619499  0.00998329 3.633751   3.3568127  3.290652\n",
            "  3.1415927  0.        ]\n",
            " [0.         0.         0.         5.819502   5.89349    5.9697766\n",
            "  3.0933125  3.0077467  3.0172508  2.3563612  0.         0.68670684\n",
            "  0.77479094 0.6950908  0.42393366 3.7613757  3.7046041  3.6895416\n",
            "  3.926824   0.        ]\n",
            " [0.         0.         0.         5.497954   5.892502   6.047343\n",
            "  0.33936396 2.6960921  2.3726575  1.5905524  1.2603487  1.0850918\n",
            "  0.91241866 0.99521565 3.5789661  3.766407   3.9315798  3.9008088\n",
            "  0.         0.        ]\n",
            " [0.         0.         0.         0.         5.9825773  5.9732184\n",
            "  6.0664153  2.1136262  2.0060172  1.5845492  1.3119913  1.2215617\n",
            "  1.1441042  3.881025   3.7728953  3.663591   3.589163   3.926824\n",
            "  0.         0.        ]\n",
            " [0.         0.         0.         0.         5.7626405  5.710602\n",
            "  5.681784   5.726509   1.7022957  1.5736206  1.4909797  3.4141817\n",
            "  4.0780363  4.040453   3.9656742  3.96991    3.926824   0.\n",
            "  0.         0.        ]\n",
            " [0.         0.         0.         0.         5.497954   5.422252\n",
            "  5.450358   5.3163166  5.0434003  4.7626967  4.455967   4.2198343\n",
            "  4.136527   4.0806913  3.976304   3.926824   0.         0.\n",
            "  0.         0.        ]\n",
            " [0.         0.         0.         0.         0.         5.497954\n",
            "  5.443438   5.223768   4.9765477  4.7653985  4.542966   4.2978115\n",
            "  4.1151137  4.0051928  3.926824   0.         0.         0.\n",
            "  0.         0.        ]\n",
            " [0.         0.         0.         0.         0.         0.\n",
            "  0.         5.497954   5.1949177  4.861702   4.522058   4.1932764\n",
            "  3.926824   0.         0.         0.         0.         0.\n",
            "  0.         0.        ]\n",
            " [0.         0.         0.         0.         0.         0.\n",
            "  0.         0.         0.         0.         0.         0.\n",
            "  0.         0.         0.         0.         0.         0.\n",
            "  0.         0.        ]]\n"
          ]
        }
      ]
    },
    {
      "cell_type": "code",
      "source": [
        "trainData = np.float32(hogdata).reshape(-1,64)"
      ],
      "metadata": {
        "id": "yGNgKFCQFEew"
      },
      "execution_count": 455,
      "outputs": []
    },
    {
      "cell_type": "code",
      "source": [
        "responses = np.repeat(np.arange(10),250)[:,np.newaxis]"
      ],
      "metadata": {
        "id": "tOHNHS_1FJ-b"
      },
      "execution_count": 456,
      "outputs": []
    },
    {
      "cell_type": "markdown",
      "source": [
        "Making ready the classfier by setting different parameters"
      ],
      "metadata": {
        "id": "JyMgXiV8Fa8U"
      }
    },
    {
      "cell_type": "code",
      "source": [
        "svm = cv.ml.SVM_create()\n",
        "svm.setKernel(cv.ml.SVM_LINEAR)\n",
        "svm.setType(cv.ml.SVM_C_SVC)\n",
        "svm.setC(2.67)\n",
        "svm.setGamma(5.383)"
      ],
      "metadata": {
        "id": "hYI2RTRNFPF3"
      },
      "execution_count": 457,
      "outputs": []
    },
    {
      "cell_type": "markdown",
      "source": [
        "Training the classfier"
      ],
      "metadata": {
        "id": "_Nrb29BaFleU"
      }
    },
    {
      "cell_type": "code",
      "source": [
        "svm.train(trainData, cv.ml.ROW_SAMPLE, responses)"
      ],
      "metadata": {
        "colab": {
          "base_uri": "https://localhost:8080/"
        },
        "id": "5U7bF-pkFWSq",
        "outputId": "01ee9bd3-9265-4a5e-8d31-e1fd8611c154"
      },
      "execution_count": 458,
      "outputs": [
        {
          "output_type": "execute_result",
          "data": {
            "text/plain": [
              "True"
            ]
          },
          "metadata": {},
          "execution_count": 458
        }
      ]
    },
    {
      "cell_type": "markdown",
      "source": [
        "Saving the trained the classifier weight"
      ],
      "metadata": {
        "id": "nhRfGnJfFq-Z"
      }
    },
    {
      "cell_type": "code",
      "source": [
        "svm.save('svm_data.dat')"
      ],
      "metadata": {
        "id": "deAwiFabFbK0"
      },
      "execution_count": 459,
      "outputs": []
    },
    {
      "cell_type": "markdown",
      "source": [
        "Testing the **classfier**"
      ],
      "metadata": {
        "id": "g92YWBKhF41G"
      }
    },
    {
      "cell_type": "code",
      "source": [
        "deskewed = [list(map(deskew,row)) for row in test_cells]\n",
        "hogdata = [list(map(hog,row)) for row in deskewed]\n",
        "testData = np.float32(hogdata).reshape(-1,bin_n*4)\n",
        "result = svm.predict(testData)[1]"
      ],
      "metadata": {
        "id": "IrVvyVESFirJ"
      },
      "execution_count": 538,
      "outputs": []
    },
    {
      "cell_type": "markdown",
      "source": [
        "Checking the Accuracy"
      ],
      "metadata": {
        "id": "pk82nWiEGAzh"
      }
    },
    {
      "cell_type": "code",
      "source": [
        "mask = result==responses\n",
        "correct = np.count_nonzero(mask)\n",
        "print(correct*100.0/result.size)"
      ],
      "metadata": {
        "colab": {
          "base_uri": "https://localhost:8080/"
        },
        "id": "jDIQAT2xFvOP",
        "outputId": "dbe195b4-d277-46ee-d881-77e8c7158576"
      },
      "execution_count": 539,
      "outputs": [
        {
          "output_type": "stream",
          "name": "stdout",
          "text": [
            "93.84\n"
          ]
        }
      ]
    },
    {
      "cell_type": "markdown",
      "source": [
        "**Testing the trained classfier**\n",
        "<br>importing the single digit image"
      ],
      "metadata": {
        "id": "FAO7LwX6LMdw"
      }
    },
    {
      "cell_type": "code",
      "source": [
        "!mkdir test_uploads"
      ],
      "metadata": {
        "id": "E4Vag35zYiSz",
        "colab": {
          "base_uri": "https://localhost:8080/"
        },
        "outputId": "31945f79-a96a-467d-8dd1-61157781b85d"
      },
      "execution_count": 462,
      "outputs": [
        {
          "output_type": "stream",
          "name": "stdout",
          "text": [
            "mkdir: cannot create directory ‘test_uploads’: File exists\n"
          ]
        }
      ]
    },
    {
      "cell_type": "code",
      "source": [
        "TEST_IMAGE_PATH = \"/content/test_uploads/3.png\""
      ],
      "metadata": {
        "id": "E_xTEkTiT109"
      },
      "execution_count": 631,
      "outputs": []
    },
    {
      "cell_type": "code",
      "source": [
        "test_img = cv.imread(TEST_IMAGE_PATH, 0)\n",
        "if test_img is None:\n",
        "    raise Exception(\"Test image is empty\")\n",
        "\n",
        "plt.imshow(test_img, cmap=plt.cm.plasma, interpolation='nearest')\n",
        "plt.show()\n"
      ],
      "metadata": {
        "id": "TmhbiiBxVS88",
        "colab": {
          "base_uri": "https://localhost:8080/",
          "height": 265
        },
        "outputId": "837f29b0-85ea-44c3-a644-0ae4408a83b4"
      },
      "execution_count": 632,
      "outputs": [
        {
          "output_type": "display_data",
          "data": {
            "text/plain": [
              "<Figure size 432x288 with 1 Axes>"
            ],
            "image/png": "[encoded data removed]"
          },
          "metadata": {
            "needs_background": "light"
          }
        }
      ]
    },
    {
      "cell_type": "code",
      "source": [
        "deskewed = deskew(test_img)\n",
        "hogdata = hog(deskewed)\n",
        "testData = np.float32(hogdata).reshape(-1,bin_n*4)\n",
        "result = svm.predict(testData)[1]"
      ],
      "metadata": {
        "id": "6NFQR1o3Lmpy",
        "colab": {
          "base_uri": "https://localhost:8080/"
        },
        "outputId": "ce55f3b5-2f9b-4c30-c446-80c0f2adabfe"
      },
      "execution_count": 633,
      "outputs": [
        {
          "output_type": "stream",
          "name": "stdout",
          "text": [
            "Magnitude:  20\n",
            "[[   0.           0.           0.           0.           0.\n",
            "     0.           0.           0.           0.           0.\n",
            "     0.           0.           0.           0.           0.\n",
            "     0.           0.           0.           0.           0.       ]\n",
            " [   0.           0.           0.           0.          11.313708\n",
            "    49.396355    80.895       70.93659     28.284271     0.\n",
            "     0.           0.           0.           0.           0.\n",
            "     0.           0.           0.           0.           0.       ]\n",
            " [   0.           0.           0.           0.          63.245552\n",
            "   376.44653    702.0897     777.8252     528.6095     197.47404\n",
            "    38.183765     0.           0.           0.           0.\n",
            "     0.           0.           0.           0.           0.       ]\n",
            " [   0.           0.           0.           0.          80.399\n",
            "   534.9393     733.1698     783.0773    1054.074      920.2445\n",
            "   690.4201     412.0801     161.1521      29.698484     0.\n",
            "     0.           0.           0.           0.           0.       ]\n",
            " [   0.           0.           0.           0.          50.91169\n",
            "   485.97943    959.8927     623.6105     172.32527    766.4802\n",
            "  1018.974     1040.1818     851.39886    501.3841     184.4397\n",
            "    35.468296     2.828427     0.           0.           0.       ]\n",
            " [   0.           0.           0.           0.           0.\n",
            "   138.59293    567.69183    975.141      982.4235     645.7569\n",
            "   183.13383    353.38647    829.7108    1004.19617    756.0582\n",
            "   329.19598     62.289646     0.           0.           0.       ]\n",
            " [   0.           0.           0.           0.           0.\n",
            "     0.          76.36753    333.6855     706.1742     937.65344\n",
            "   902.08765    621.0072     144.36066    591.20215    900.2011\n",
            "   614.09607    158.39824      0.           0.           0.       ]\n",
            " [   0.           0.           0.           9.899495    58.821762\n",
            "   151.53877    261.29294    369.09076    434.50433    464.03662\n",
            "   549.5835     587.10474    320.92368    318.4211     836.54767\n",
            "   656.88965    171.49344      0.           0.           0.       ]\n",
            " [   0.           0.          29.698484   251.0976     601.5065\n",
            "   856.8792     963.669     1004.1165    1020.5106    1004.901\n",
            "   891.85205    601.95013    197.43352    465.38156    841.76\n",
            "   532.72504     95.707886     0.           0.           0.       ]\n",
            " [   0.           0.          42.         463.2062     792.21466\n",
            "   706.72485    568.6563     426.35666    295.41837    122.188385\n",
            "   140.23552    280.49243    201.71762    354.1892     838.20404\n",
            "   808.22894    321.0545      26.870058     0.           0.       ]\n",
            " [   0.           0.          29.698484   469.3016     835.4891\n",
            "   804.65894    903.4656     961.013      982.00006    994.63464\n",
            "  1009.01935   1013.8293     978.0235     682.15686     62.76942\n",
            "   848.9099     791.82324    227.7279      22.627417     0.       ]\n",
            " [   0.           0.           0.         200.86314    563.64886\n",
            "   781.51135    817.5304     791.03094    785.00574    756.8567\n",
            "   696.8687     680.3558     746.0429     848.7002     736.7523\n",
            "   257.61987    912.22473    499.2955      86.4523       0.       ]\n",
            " [   0.           0.           0.           4.2426405   35.608986\n",
            "    57.428215    51.92302     34.058773    32.          22.\n",
            "    14.422205   106.         319.4276     690.6519     798.4986\n",
            "   130.55267    817.1952     626.3865     140.57738      0.       ]\n",
            " [   0.           0.           0.          14.142136    50.119858\n",
            "    71.063354    67.36468    116.867455   267.79843    467.86536\n",
            "   660.18335    815.9068     947.4482     909.29645    455.74774\n",
            "   335.0761     841.3382     572.931      124.65151      0.       ]\n",
            " [   0.           0.          16.970562   175.38528    512.4471\n",
            "   777.3185     872.3302     902.8355     993.4686    1033.0247\n",
            "  1008.06744    894.5044     592.03546     18.384777   654.19415\n",
            "   951.6659     787.2407     346.96973     52.3259       0.       ]\n",
            " [   0.           0.          24.         336.58282    824.2293\n",
            "   886.616      925.6954     789.2275     536.8147     211.40009\n",
            "   136.         455.00986    751.8045     983.69305    943.6313\n",
            "   629.1486     293.30188     70.71068      0.           0.       ]\n",
            " [   0.           0.          16.970562   347.30103    849.81177\n",
            "   791.00946    744.58716    799.6724     906.2825     989.708\n",
            "  1020.9368     998.2314     896.62146    649.33966    305.36862\n",
            "    66.6033       4.2426405    0.           0.           0.       ]\n",
            " [   0.           0.           0.         165.9518     567.74115\n",
            "   896.2912     991.76715    901.85693    778.338      662.145\n",
            "   522.09       360.67993    204.08821     72.62231      8.485281\n",
            "     0.           0.           0.           0.           0.       ]\n",
            " [   0.           0.           0.          12.727922    57.982758\n",
            "   111.5706     131.09538    106.30146     66.48308     34.928497\n",
            "    12.806249     1.4142135    0.           0.           0.\n",
            "     0.           0.           0.           0.           0.       ]\n",
            " [   0.           0.           0.           0.           0.\n",
            "     0.           0.           0.           0.           0.\n",
            "     0.           0.           0.           0.           0.\n",
            "     0.           0.           0.           0.           0.       ]]\n",
            "Orientation:  20\n",
            "[[0.         0.         0.         0.         0.         0.\n",
            "  0.         0.         0.         0.         0.         0.\n",
            "  0.         0.         0.         0.         0.         0.\n",
            "  0.         0.        ]\n",
            " [0.         0.         0.         0.         0.7852316  1.0165724\n",
            "  1.421916   1.9461448  2.3563612  0.         0.         0.\n",
            "  0.         0.         0.         0.         0.         0.\n",
            "  0.         0.        ]\n",
            " [0.         0.         0.         0.         0.6054162  0.8228182\n",
            "  1.2624992  1.7596208  2.0378604  2.1614861  2.3563612  0.\n",
            "  0.         0.         0.         0.         0.         0.\n",
            "  0.         0.        ]\n",
            " [0.         0.         0.         0.         6.183531   0.10486283\n",
            "  0.5179297  1.6436379  2.005649   1.8994874  1.8375947  1.9617441\n",
            "  2.1707199  2.3563612  0.         0.         0.         0.\n",
            "  0.         0.        ]\n",
            " [0.         0.         0.         0.         5.497954   5.6793303\n",
            "  5.587753   5.3818154  1.9513803  1.8025047  1.8410478  1.9212023\n",
            "  1.9714446  2.0496273  2.1631873  2.276428   2.3563612  0.\n",
            "  0.         0.        ]\n",
            " [0.         0.         0.         0.         0.         5.497954\n",
            "  5.3879175  5.253095   5.149689   5.042043   4.7506137  1.944549\n",
            "  1.9589891  2.0544994  2.1564798  2.2745368  2.4014616  0.\n",
            "  0.         0.        ]\n",
            " [0.         0.         0.         0.         0.         0.\n",
            "  5.497954   5.3143945  5.1842966  5.080099   5.1121154  5.3606205\n",
            "  0.1810915  2.2168999  2.4997568  2.662632   2.7598364  0.\n",
            "  0.         0.        ]\n",
            " [0.         0.         0.         0.7852316  0.9546281  1.1779593\n",
            "  1.3508675  1.3744591  1.2548054  0.9942599  0.66928625 0.42866448\n",
            "  0.17539127 3.6108882  3.412708   3.3688657  3.3710327  0.\n",
            "  0.         0.        ]\n",
            " [0.         0.         0.7852316  0.86426324 1.1108267  1.3243749\n",
            "  1.4218646  1.4359533  1.4341769  1.3714436  1.2347921  1.1056285\n",
            "  1.3356236  3.262203   3.347384   3.4075532  3.5959394  0.\n",
            "  0.         0.        ]\n",
            " [0.         0.         0.         0.28902528 0.6039796  1.1260812\n",
            "  1.4065211  1.3724756  1.3175765  1.06689    5.1154823  4.9279766\n",
            "  4.6280265  2.8287091  2.4950929  2.3980434  2.3693774  2.3563612\n",
            "  0.         0.        ]\n",
            " [0.         0.         5.497954   5.870948   5.625164   4.989366\n",
            "  4.6802917  4.717591   4.712389   4.655061   4.635022   4.752833\n",
            "  4.832292   4.9235954  2.606694   2.386044   2.4744074  2.3747442\n",
            "  2.3563612  0.        ]\n",
            " [0.         0.         0.         5.518811   5.1998506  4.8072057\n",
            "  4.651202   4.7035413  4.7085676  4.6648154  4.6391516  4.744724\n",
            "  4.87665    5.304844   5.712604   2.6917844  2.7058334  2.6492763\n",
            "  2.6210477  0.        ]\n",
            " [0.         0.         0.         5.497954   5.3782945  4.8345704\n",
            "  4.4393387  4.653644   4.712389   4.712389   0.9829135  1.0142835\n",
            "  0.91423166 0.5999235  0.3852348  1.6628292  3.0287871  3.0231917\n",
            "  2.991657   0.        ]\n",
            " [0.         0.         0.         0.7852316  1.0714558  1.5285763\n",
            "  1.674882   1.1568453  1.2040817  1.3180109  1.386472   1.3608915\n",
            "  1.2115791  1.035338   0.82559127 3.7443671  3.5877497  3.5075903\n",
            "  3.4938655  0.        ]\n",
            " [0.         0.         0.7852316  0.8014651  1.0364567  1.415808\n",
            "  1.5983067  1.4307902  1.3350728  1.3502227  1.3811809  1.4102494\n",
            "  1.3302995  2.7509089  4.298595   4.205511   4.0042415  3.8741243\n",
            "  3.926824   0.        ]\n",
            " [0.         0.         0.         0.29549393 0.5445106  1.1302977\n",
            "  1.6313171  1.5150272  1.343421   1.2879016  4.712389   4.5244746\n",
            "  4.4250875  4.2868743  4.2439713  4.2828045  4.1556835  3.926824\n",
            "  0.         0.        ]\n",
            " [0.         0.         5.497954   5.9395075  5.803731   5.2960677\n",
            "  4.6142044  4.5567055  4.61515    4.5796494  4.5411253  4.5157747\n",
            "  4.4216294  4.2851877  4.1181526  3.9906163  3.926824   0.\n",
            "  0.         0.        ]\n",
            " [0.         0.         0.         5.5744843  5.304665   4.9408784\n",
            "  4.6730633  4.5890102  4.595219   4.576057   4.525511   4.4801664\n",
            "  4.288129   4.0441575  3.926824   0.         0.         0.\n",
            "  0.         0.        ]\n",
            " [0.         0.         0.         5.497954   5.2763767  4.9660945\n",
            "  4.6742473  4.5039144  4.438179   4.299907   4.0376887  3.926824\n",
            "  0.         0.         0.         0.         0.         0.\n",
            "  0.         0.        ]\n",
            " [0.         0.         0.         0.         0.         0.\n",
            "  0.         0.         0.         0.         0.         0.\n",
            "  0.         0.         0.         0.         0.         0.\n",
            "  0.         0.        ]]\n"
          ]
        }
      ]
    },
    {
      "cell_type": "code",
      "source": [
        "print(result)"
      ],
      "metadata": {
        "colab": {
          "base_uri": "https://localhost:8080/"
        },
        "id": "no39mIkoFpKP",
        "outputId": "63b23131-d9b3-4d53-8722-d0e7efae612b"
      },
      "execution_count": 634,
      "outputs": [
        {
          "output_type": "stream",
          "name": "stdout",
          "text": [
            "[[3.]]\n"
          ]
        }
      ]
    },
    {
      "cell_type": "markdown",
      "source": [
        "## Scikit-learn SVM classfier "
      ],
      "metadata": {
        "id": "RggUCXMWig0y"
      }
    },
    {
      "cell_type": "code",
      "source": [
        "clf = supportVectorMachine.SVC()\n",
        "clf = supportVectorMachine.SVC(gamma=0.001, C=100)\n",
        "digits = datasets.load_digits()\n",
        "X,y = digits.data[:-10], digits.target[:-10]\n",
        "clf.fit(X,y)\n",
        "print(clf.predict(digits.data[1].reshape(1,-1)))\n"
      ],
      "metadata": {
        "colab": {
          "base_uri": "https://localhost:8080/"
        },
        "id": "oMEUGagIbUMO",
        "outputId": "873a4256-dcaa-4ce5-95e8-8c8924ab3048"
      },
      "execution_count": 544,
      "outputs": [
        {
          "output_type": "stream",
          "name": "stdout",
          "text": [
            "[1]\n"
          ]
        }
      ]
    },
    {
      "cell_type": "code",
      "source": [
        "plt.imshow(digits.images[1], cmap=plt.cm.gray_r, interpolation='nearest')\n",
        "plt.show()"
      ],
      "metadata": {
        "colab": {
          "base_uri": "https://localhost:8080/",
          "height": 265
        },
        "id": "DLq4E2d6Y3Hp",
        "outputId": "d178b7a7-6e8c-4371-ee0f-dfaafb6bda65"
      },
      "execution_count": 545,
      "outputs": [
        {
          "output_type": "display_data",
          "data": {
            "text/plain": [
              "<Figure size 432x288 with 1 Axes>"
            ],
            "image/png": "[encoded data removed]"
          },
          "metadata": {
            "needs_background": "light"
          }
        }
      ]
    }
  ]
}